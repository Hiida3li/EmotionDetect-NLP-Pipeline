{
 "cells": [
  {
   "cell_type": "code",
   "execution_count": 2,
   "metadata": {},
   "outputs": [],
   "source": [
    "import pandas as pd\n",
    "import numpy as np\n",
    "import os\n",
    "\n"
   ]
  },
  {
   "cell_type": "code",
   "execution_count": 4,
   "metadata": {},
   "outputs": [
    {
     "data": {
      "text/html": [
       "<div>\n",
       "<style scoped>\n",
       "    .dataframe tbody tr th:only-of-type {\n",
       "        vertical-align: middle;\n",
       "    }\n",
       "\n",
       "    .dataframe tbody tr th {\n",
       "        vertical-align: top;\n",
       "    }\n",
       "\n",
       "    .dataframe thead th {\n",
       "        text-align: right;\n",
       "    }\n",
       "</style>\n",
       "<table border=\"1\" class=\"dataframe\">\n",
       "  <thead>\n",
       "    <tr style=\"text-align: right;\">\n",
       "      <th></th>\n",
       "      <th>sentence</th>\n",
       "    </tr>\n",
       "  </thead>\n",
       "  <tbody>\n",
       "    <tr>\n",
       "      <th>1398</th>\n",
       "      <td>وخالد اليوم متزوج من باكستانية مسلمة رزق منها ...</td>\n",
       "    </tr>\n",
       "    <tr>\n",
       "      <th>2856</th>\n",
       "      <td>وقال السفير الامريكي جون بولتون الذي دعم النص ...</td>\n",
       "    </tr>\n",
       "    <tr>\n",
       "      <th>572</th>\n",
       "      <td>لم تثن الحرارة المفرطة التي تعرفها مراكش هذه ا...</td>\n",
       "    </tr>\n",
       "    <tr>\n",
       "      <th>4640</th>\n",
       "      <td>فعوداً حميداً .</td>\n",
       "    </tr>\n",
       "    <tr>\n",
       "      <th>632</th>\n",
       "      <td>ووصلت النمسا الى قناعة الهجوم على صربيا كضربة ...</td>\n",
       "    </tr>\n",
       "    <tr>\n",
       "      <th>3802</th>\n",
       "      <td>وكانت المراحل الثلاث السابقة تمثلت في تكليف إي...</td>\n",
       "    </tr>\n",
       "    <tr>\n",
       "      <th>3058</th>\n",
       "      <td>واضاف كينيون « لديا مدير فني يتمتع بخبرة عظيمة...</td>\n",
       "    </tr>\n",
       "    <tr>\n",
       "      <th>1846</th>\n",
       "      <td>وكان الاقبال على الفيلم لافتاً ، خاصة من السيا...</td>\n",
       "    </tr>\n",
       "    <tr>\n",
       "      <th>2142</th>\n",
       "      <td>وننزل من قمة الأثرياء إلى قاع الفقراء ، إلى قر...</td>\n",
       "    </tr>\n",
       "    <tr>\n",
       "      <th>1772</th>\n",
       "      <td>وقال مسؤولون في شركات طيران الامارات والعربية ...</td>\n",
       "    </tr>\n",
       "  </tbody>\n",
       "</table>\n",
       "</div>"
      ],
      "text/plain": [
       "                                               sentence\n",
       "1398  وخالد اليوم متزوج من باكستانية مسلمة رزق منها ...\n",
       "2856  وقال السفير الامريكي جون بولتون الذي دعم النص ...\n",
       "572   لم تثن الحرارة المفرطة التي تعرفها مراكش هذه ا...\n",
       "4640                                    فعوداً حميداً .\n",
       "632   ووصلت النمسا الى قناعة الهجوم على صربيا كضربة ...\n",
       "3802  وكانت المراحل الثلاث السابقة تمثلت في تكليف إي...\n",
       "3058  واضاف كينيون « لديا مدير فني يتمتع بخبرة عظيمة...\n",
       "1846  وكان الاقبال على الفيلم لافتاً ، خاصة من السيا...\n",
       "2142  وننزل من قمة الأثرياء إلى قاع الفقراء ، إلى قر...\n",
       "1772  وقال مسؤولون في شركات طيران الامارات والعربية ..."
      ]
     },
     "execution_count": 4,
     "metadata": {},
     "output_type": "execute_result"
    }
   ],
   "source": [
    "df = pd.read_csv(\"../data/raw_data/sentences.csv\")\n",
    "df.sample(10)"
   ]
  }
 ],
 "metadata": {
  "kernelspec": {
   "display_name": "Python 3",
   "language": "python",
   "name": "python3"
  },
  "language_info": {
   "codemirror_mode": {
    "name": "ipython",
    "version": 3
   },
   "file_extension": ".py",
   "mimetype": "text/x-python",
   "name": "python",
   "nbconvert_exporter": "python",
   "pygments_lexer": "ipython3",
   "version": "3.12.5"
  }
 },
 "nbformat": 4,
 "nbformat_minor": 2
}
