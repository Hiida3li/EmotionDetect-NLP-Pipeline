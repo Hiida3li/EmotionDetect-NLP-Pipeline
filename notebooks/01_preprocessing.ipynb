{
 "cells": [
  {
   "cell_type": "code",
   "execution_count": 2,
   "metadata": {},
   "outputs": [],
   "source": [
    "import pandas as pd\n",
    "import numpy as np\n",
    "import os\n",
    "\n"
   ]
  },
  {
   "cell_type": "code",
   "execution_count": 5,
   "metadata": {},
   "outputs": [
    {
     "data": {
      "text/html": [
       "<div>\n",
       "<style scoped>\n",
       "    .dataframe tbody tr th:only-of-type {\n",
       "        vertical-align: middle;\n",
       "    }\n",
       "\n",
       "    .dataframe tbody tr th {\n",
       "        vertical-align: top;\n",
       "    }\n",
       "\n",
       "    .dataframe thead th {\n",
       "        text-align: right;\n",
       "    }\n",
       "</style>\n",
       "<table border=\"1\" class=\"dataframe\">\n",
       "  <thead>\n",
       "    <tr style=\"text-align: right;\">\n",
       "      <th></th>\n",
       "      <th>sentence</th>\n",
       "    </tr>\n",
       "  </thead>\n",
       "  <tbody>\n",
       "    <tr>\n",
       "      <th>2065</th>\n",
       "      <td>ويتصور أن الاطباق الفضائية تهدد الأساس الثقافي...</td>\n",
       "    </tr>\n",
       "    <tr>\n",
       "      <th>1672</th>\n",
       "      <td>وفي العام1986 ، وفي حين كان نظامه يخوض الحرب م...</td>\n",
       "    </tr>\n",
       "    <tr>\n",
       "      <th>690</th>\n",
       "      <td>ولفتت المؤسسة المسؤولة عن الترويج السياحي إلى ...</td>\n",
       "    </tr>\n",
       "    <tr>\n",
       "      <th>1796</th>\n",
       "      <td>واوضح المسؤول « لا خيار اخر الا توسيع هذه الصن...</td>\n",
       "    </tr>\n",
       "    <tr>\n",
       "      <th>724</th>\n",
       "      <td>واتفق الزعيمان على مواصلة التنسيق والتشاور لاي...</td>\n",
       "    </tr>\n",
       "    <tr>\n",
       "      <th>1050</th>\n",
       "      <td>وأشار إلى أن المشروع يكلف نحو 497 مليون دولار ...</td>\n",
       "    </tr>\n",
       "    <tr>\n",
       "      <th>3135</th>\n",
       "      <td>وقفزت حصيلة الجمارك بنحو‏21%‏ لتسجل‏9 , 4‏ ملي...</td>\n",
       "    </tr>\n",
       "    <tr>\n",
       "      <th>3311</th>\n",
       "      <td>وخلص موتان الى القول إن هذه اللوحة رسمت بمناسب...</td>\n",
       "    </tr>\n",
       "    <tr>\n",
       "      <th>4835</th>\n",
       "      <td>وقال كيني جوس صديق مايكل الحميم إن مغني البوب ...</td>\n",
       "    </tr>\n",
       "    <tr>\n",
       "      <th>3003</th>\n",
       "      <td>وانفجارات قرب الخارجية البيت الأبيض ينفي قصف ك...</td>\n",
       "    </tr>\n",
       "  </tbody>\n",
       "</table>\n",
       "</div>"
      ],
      "text/plain": [
       "                                               sentence\n",
       "2065  ويتصور أن الاطباق الفضائية تهدد الأساس الثقافي...\n",
       "1672  وفي العام1986 ، وفي حين كان نظامه يخوض الحرب م...\n",
       "690   ولفتت المؤسسة المسؤولة عن الترويج السياحي إلى ...\n",
       "1796  واوضح المسؤول « لا خيار اخر الا توسيع هذه الصن...\n",
       "724   واتفق الزعيمان على مواصلة التنسيق والتشاور لاي...\n",
       "1050  وأشار إلى أن المشروع يكلف نحو 497 مليون دولار ...\n",
       "3135  وقفزت حصيلة الجمارك بنحو‏21%‏ لتسجل‏9 , 4‏ ملي...\n",
       "3311  وخلص موتان الى القول إن هذه اللوحة رسمت بمناسب...\n",
       "4835  وقال كيني جوس صديق مايكل الحميم إن مغني البوب ...\n",
       "3003  وانفجارات قرب الخارجية البيت الأبيض ينفي قصف ك..."
      ]
     },
     "execution_count": 5,
     "metadata": {},
     "output_type": "execute_result"
    }
   ],
   "source": [
    "df = pd.read_csv(\"../data/raw_data/sentences.csv\")\n",
    "df.sample(10)"
   ]
  }
 ],
 "metadata": {
  "kernelspec": {
   "display_name": "Python 3",
   "language": "python",
   "name": "python3"
  },
  "language_info": {
   "codemirror_mode": {
    "name": "ipython",
    "version": 3
   },
   "file_extension": ".py",
   "mimetype": "text/x-python",
   "name": "python",
   "nbconvert_exporter": "python",
   "pygments_lexer": "ipython3",
   "version": "3.12.5"
  }
 },
 "nbformat": 4,
 "nbformat_minor": 2
}
